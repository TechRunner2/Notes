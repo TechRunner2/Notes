{
 "cells": [
  {
   "cell_type": "code",
   "execution_count": 2,
   "metadata": {},
   "outputs": [],
   "source": [
    "class LinkedQueue:\n",
    "  \"\"\"FIFO queue implementation using a singly linked list for storage.\"\"\"\n",
    "\n",
    "  #-------------------------- nested _Node class --------------------------\n",
    "  class _Node:\n",
    "    \"\"\"Lightweight, nonpublic class for storing a singly linked node.\"\"\"\n",
    "    __slots__ = '_element', '_next'         # streamline memory usage\n",
    "\n",
    "    def __init__(self, element, next):\n",
    "      self._element = element\n",
    "      self._next = next\n",
    "\n",
    "  #------------------------------- queue methods -------------------------------\n",
    "  def __init__(self):\n",
    "    \"\"\"Create an empty queue.\"\"\"\n",
    "    self._head = None\n",
    "    self._tail = None\n",
    "    self._size = 0                          # number of queue elements\n",
    "\n",
    "  def __len__(self):\n",
    "    \"\"\"Return the number of elements in the queue.\"\"\"\n",
    "    return self._size\n",
    "\n",
    "  def is_empty(self):\n",
    "    \"\"\"Return True if the queue is empty.\"\"\"\n",
    "    return self._size == 0\n",
    "\n",
    "  def first(self):\n",
    "    \"\"\"Return (but do not remove) the element at the front of the queue.\n",
    "\n",
    "    Raise Empty exception if the queue is empty.\n",
    "    \"\"\"\n",
    "    if self.is_empty():\n",
    "      raise Empty('Queue is empty')\n",
    "    return self._head._element              # front aligned with head of list\n",
    "\n",
    "  def dequeue(self):\n",
    "    \"\"\"Remove and return the first element of the queue (i.e., FIFO).\n",
    "\n",
    "    Raise Empty exception if the queue is empty.\n",
    "    \"\"\"\n",
    "    if self.is_empty():\n",
    "      raise Empty('Queue is empty')\n",
    "    answer = self._head._element\n",
    "    self._head = self._head._next\n",
    "    self._size -= 1\n",
    "    if self.is_empty():                     # special case as queue is empty\n",
    "      self._tail = None                     # removed head had been the tail\n",
    "    return answer\n",
    "\n",
    "  def enqueue(self, e):\n",
    "    \"\"\"Add an element to the back of queue.\"\"\"\n",
    "    newest = self._Node(e, None)            # node will be new tail node\n",
    "    if self.is_empty():\n",
    "      self._head = newest                   # special case: previously empty\n",
    "    else:\n",
    "      self._tail._next = newest\n",
    "    self._tail = newest                     # update reference to tail node\n",
    "    self._size += 1\n",
    "    \n",
    "  def print_linked(self):\n",
    "    \"\"\"Return (but do not remove) the element at the front of the queue.\n",
    "    \n",
    "    Raise Empty exception if the queue is empty.\n",
    "    \"\"\"\n",
    "    t = self._Node(None, None)\n",
    "    t = self._head\n",
    "    \n",
    "    if self.is_empty():\n",
    "      raise Empty('Queue is empty')\n",
    "    else:\n",
    "       for i in range(self._size):\n",
    "          print('i = ',i,'\\telement = ',t._element)\n",
    "          t = t._next \n",
    "    \n",
    "  def insert_linked(self, room_no, e):\n",
    "      t = self._Node(None, None)\n",
    "      newest = self._Node(e, None)\n",
    "    \n",
    "      if self.is_empty():\n",
    "         self._head = newest\n",
    "         self._tail = newest                     # update reference to tail node\n",
    "      elif room_no == 0:\n",
    "         newest._next = self._head\n",
    "         self._head = newest\n",
    "      elif room_no == self._size:\n",
    "         newest._next = None\n",
    "         self._tail._next = newest\n",
    "         self._tail = newest\n",
    "      else:\n",
    "         for i in range(self._size):\n",
    "            if i == 1:\n",
    "               t = self._head\n",
    "            if i == room_no:\n",
    "               print('i=',i,'\\troom_no=',room_no)\n",
    "               print('t->element = ',t._element)\n",
    "               newest._next = t._next\n",
    "               print('newest->next->element = ',newest._next._element)\n",
    "               t._next = newest\n",
    "               print('t->next->element = ',t._next._element)\n",
    "\n",
    "            if i != 0:\n",
    "               t=t._next\n",
    "      self._size += 1"
   ]
  },
  {
   "cell_type": "code",
   "execution_count": 3,
   "metadata": {
    "collapsed": true
   },
   "outputs": [],
   "source": [
    "LQ=LinkedQueue()"
   ]
  },
  {
   "cell_type": "code",
   "execution_count": 4,
   "metadata": {},
   "outputs": [
    {
     "data": {
      "text/plain": [
       "0"
      ]
     },
     "execution_count": 4,
     "metadata": {},
     "output_type": "execute_result"
    }
   ],
   "source": [
    "LQ.__len__()"
   ]
  },
  {
   "cell_type": "code",
   "execution_count": 5,
   "metadata": {},
   "outputs": [
    {
     "data": {
      "text/plain": [
       "True"
      ]
     },
     "execution_count": 5,
     "metadata": {},
     "output_type": "execute_result"
    }
   ],
   "source": [
    "LQ.is_empty()"
   ]
  },
  {
   "cell_type": "code",
   "execution_count": 6,
   "metadata": {
    "collapsed": true
   },
   "outputs": [],
   "source": [
    "LQ.enqueue('JF')"
   ]
  },
  {
   "cell_type": "code",
   "execution_count": 7,
   "metadata": {},
   "outputs": [
    {
     "name": "stdout",
     "output_type": "stream",
     "text": [
      "JF\n"
     ]
    }
   ],
   "source": [
    "print(LQ.first())"
   ]
  },
  {
   "cell_type": "code",
   "execution_count": 8,
   "metadata": {
    "collapsed": true
   },
   "outputs": [],
   "source": [
    "LQ.enqueue('DF')"
   ]
  },
  {
   "cell_type": "code",
   "execution_count": 9,
   "metadata": {},
   "outputs": [
    {
     "name": "stdout",
     "output_type": "stream",
     "text": [
      "2\n"
     ]
    }
   ],
   "source": [
    "print(LQ.__len__())"
   ]
  },
  {
   "cell_type": "code",
   "execution_count": 10,
   "metadata": {},
   "outputs": [
    {
     "name": "stdout",
     "output_type": "stream",
     "text": [
      "i =  0 \telement =  JF\n",
      "i =  1 \telement =  DF\n"
     ]
    }
   ],
   "source": [
    "LQ.print_linked()"
   ]
  },
  {
   "cell_type": "code",
   "execution_count": 13,
   "metadata": {},
   "outputs": [
    {
     "data": {
      "text/plain": [
       "['_Node',\n",
       " '__class__',\n",
       " '__delattr__',\n",
       " '__dict__',\n",
       " '__dir__',\n",
       " '__doc__',\n",
       " '__eq__',\n",
       " '__format__',\n",
       " '__ge__',\n",
       " '__getattribute__',\n",
       " '__gt__',\n",
       " '__hash__',\n",
       " '__init__',\n",
       " '__init_subclass__',\n",
       " '__le__',\n",
       " '__len__',\n",
       " '__lt__',\n",
       " '__module__',\n",
       " '__ne__',\n",
       " '__new__',\n",
       " '__reduce__',\n",
       " '__reduce_ex__',\n",
       " '__repr__',\n",
       " '__setattr__',\n",
       " '__sizeof__',\n",
       " '__str__',\n",
       " '__subclasshook__',\n",
       " '__weakref__',\n",
       " '_head',\n",
       " '_size',\n",
       " '_tail',\n",
       " 'dequeue',\n",
       " 'enqueue',\n",
       " 'first',\n",
       " 'insert_linked',\n",
       " 'is_empty',\n",
       " 'print_linked']"
      ]
     },
     "execution_count": 13,
     "metadata": {},
     "output_type": "execute_result"
    }
   ],
   "source": [
    "dir(LQ)"
   ]
  },
  {
   "cell_type": "code",
   "execution_count": 15,
   "metadata": {
    "collapsed": true
   },
   "outputs": [],
   "source": [
    "LQ.insert_linked(3,'FD')"
   ]
  },
  {
   "cell_type": "code",
   "execution_count": 24,
   "metadata": {},
   "outputs": [
    {
     "name": "stdout",
     "output_type": "stream",
     "text": [
      "i =  0 \telement =  JF\n",
      "i =  1 \telement =  DF\n",
      "i =  2 \telement =  FD\n"
     ]
    },
    {
     "ename": "AttributeError",
     "evalue": "'NoneType' object has no attribute '_element'",
     "output_type": "error",
     "traceback": [
      "\u001b[1;31m---------------------------------------------------------------------------\u001b[0m",
      "\u001b[1;31mAttributeError\u001b[0m                            Traceback (most recent call last)",
      "\u001b[1;32m<ipython-input-24-299bd86dc755>\u001b[0m in \u001b[0;36m<module>\u001b[1;34m()\u001b[0m\n\u001b[1;32m----> 1\u001b[1;33m \u001b[0mLQ\u001b[0m\u001b[1;33m.\u001b[0m\u001b[0mprint_linked\u001b[0m\u001b[1;33m(\u001b[0m\u001b[1;33m)\u001b[0m\u001b[1;33m\u001b[0m\u001b[0m\n\u001b[0m",
      "\u001b[1;32m<ipython-input-2-a3e98f2acb45>\u001b[0m in \u001b[0;36mprint_linked\u001b[1;34m(self)\u001b[0m\n\u001b[0;32m     71\u001b[0m     \u001b[1;32melse\u001b[0m\u001b[1;33m:\u001b[0m\u001b[1;33m\u001b[0m\u001b[0m\n\u001b[0;32m     72\u001b[0m        \u001b[1;32mfor\u001b[0m \u001b[0mi\u001b[0m \u001b[1;32min\u001b[0m \u001b[0mrange\u001b[0m\u001b[1;33m(\u001b[0m\u001b[0mself\u001b[0m\u001b[1;33m.\u001b[0m\u001b[0m_size\u001b[0m\u001b[1;33m)\u001b[0m\u001b[1;33m:\u001b[0m\u001b[1;33m\u001b[0m\u001b[0m\n\u001b[1;32m---> 73\u001b[1;33m           \u001b[0mprint\u001b[0m\u001b[1;33m(\u001b[0m\u001b[1;34m'i = '\u001b[0m\u001b[1;33m,\u001b[0m\u001b[0mi\u001b[0m\u001b[1;33m,\u001b[0m\u001b[1;34m'\\telement = '\u001b[0m\u001b[1;33m,\u001b[0m\u001b[0mt\u001b[0m\u001b[1;33m.\u001b[0m\u001b[0m_element\u001b[0m\u001b[1;33m)\u001b[0m\u001b[1;33m\u001b[0m\u001b[0m\n\u001b[0m\u001b[0;32m     74\u001b[0m           \u001b[0mt\u001b[0m \u001b[1;33m=\u001b[0m \u001b[0mt\u001b[0m\u001b[1;33m.\u001b[0m\u001b[0m_next\u001b[0m\u001b[1;33m\u001b[0m\u001b[0m\n\u001b[0;32m     75\u001b[0m \u001b[1;33m\u001b[0m\u001b[0m\n",
      "\u001b[1;31mAttributeError\u001b[0m: 'NoneType' object has no attribute '_element'"
     ]
    }
   ],
   "source": [
    "LQ.print_linked()"
   ]
  },
  {
   "cell_type": "code",
   "execution_count": null,
   "metadata": {
    "collapsed": true
   },
   "outputs": [],
   "source": []
  }
 ],
 "metadata": {
  "kernelspec": {
   "display_name": "Python 3",
   "language": "python",
   "name": "python3"
  },
  "language_info": {
   "codemirror_mode": {
    "name": "ipython",
    "version": 3
   },
   "file_extension": ".py",
   "mimetype": "text/x-python",
   "name": "python",
   "nbconvert_exporter": "python",
   "pygments_lexer": "ipython3",
   "version": "3.6.3"
  }
 },
 "nbformat": 4,
 "nbformat_minor": 2
}
