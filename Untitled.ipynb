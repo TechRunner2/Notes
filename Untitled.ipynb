{
 "cells": [
  {
   "cell_type": "code",
   "execution_count": 6,
   "metadata": {},
   "outputs": [
    {
     "name": "stdout",
     "output_type": "stream",
     "text": [
      "Please enter full path to directory/mnt/test/\n",
      "0\n",
      "1\n",
      "2\n"
     ]
    }
   ],
   "source": [
    "# Import os library and shutil\n",
    "import os\n",
    "import shutil\n",
    "\n",
    "# Ask for path\n",
    "path = input(\"Please enter full path to directory\")\n",
    "names = os.listdir(path)\n",
    "folder_name = ['image','text','videos']\n",
    "for x in range(0,len(folder_name)):\n",
    "    print(x)\n",
    "    if not os.path.exists(path+folder_name[x]):\n",
    "        os.makedirs(path+folder_name[x])\n",
    "for files in names:\n",
    "    if \".png\" in files and not os.path.exists(path+'image/'+files):\n",
    "        shutil.move(path+files, path+'image/'+files)\n",
    "    if \".txt\" in files and not os.path.exists(path+'text/'+files):\n",
    "        shutil.move(path+files, path+'text/'+files)\n",
    "        \n"
   ]
  },
  {
   "cell_type": "code",
   "execution_count": null,
   "metadata": {
    "collapsed": true
   },
   "outputs": [],
   "source": []
  }
 ],
 "metadata": {
  "kernelspec": {
   "display_name": "Python 3",
   "language": "python",
   "name": "python3"
  },
  "language_info": {
   "codemirror_mode": {
    "name": "ipython",
    "version": 3
   },
   "file_extension": ".py",
   "mimetype": "text/x-python",
   "name": "python",
   "nbconvert_exporter": "python",
   "pygments_lexer": "ipython3",
   "version": "3.6.3"
  }
 },
 "nbformat": 4,
 "nbformat_minor": 2
}
