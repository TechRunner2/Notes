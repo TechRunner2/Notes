{
 "cells": [
  {
   "cell_type": "markdown",
   "metadata": {},
   "source": [
    "# Welcome to my notebook\n",
    "## This is a test notebook that will be filled with code snitbits for my help and the help of others\n",
    "Python isn't that difficult of a language to learn it just requires a bit of reworking the habbits that you formed by other programing languages"
   ]
  },
  {
   "cell_type": "markdown",
   "metadata": {},
   "source": [
    "---\n",
    "## Variables"
   ]
  },
  {
   "cell_type": "code",
   "execution_count": null,
   "metadata": {
    "collapsed": true
   },
   "outputs": [],
   "source": [
    "# This is how to assign variables\n",
    "name = \"Brandon\"\n",
    "# Assigning numbers does not require int, double, etc...\n",
    "number = 15\n",
    "# True and False requires the first letter be capitalized\n",
    "binary = True"
   ]
  },
  {
   "cell_type": "markdown",
   "metadata": {},
   "source": [
    "---\n",
    "## Type Conversion"
   ]
  },
  {
   "cell_type": "code",
   "execution_count": 4,
   "metadata": {},
   "outputs": [
    {
     "data": {
      "text/plain": [
       "'0o5'"
      ]
     },
     "execution_count": 4,
     "metadata": {},
     "output_type": "execute_result"
    }
   ],
   "source": [
    "num = 5\n",
    "# Convert to an Integer\n",
    "int(num)\n",
    "\n",
    "# Convert to a String\n",
    "str(num)\n",
    "\n",
    "# Convert to a Float\n",
    "float(num)\n",
    "\n",
    "# Convert to Hexidecimal\n",
    "hex(num)\n",
    "\n",
    "# Convert to Binary\n",
    "bin(num)\n",
    "\n",
    "# Convert to Octals\n",
    "oct(num)"
   ]
  },
  {
   "cell_type": "markdown",
   "metadata": {},
   "source": [
    "---\n",
    "## Input"
   ]
  },
  {
   "cell_type": "code",
   "execution_count": 10,
   "metadata": {},
   "outputs": [
    {
     "name": "stdout",
     "output_type": "stream",
     "text": [
      "hello\n"
     ]
    }
   ],
   "source": [
    "# Basic input\n",
    "test = input()"
   ]
  },
  {
   "cell_type": "code",
   "execution_count": 12,
   "metadata": {},
   "outputs": [
    {
     "name": "stdout",
     "output_type": "stream",
     "text": [
      "Good? YES\n"
     ]
    }
   ],
   "source": [
    "# Basic input with question before\n",
    "test = input(\"Good? \")"
   ]
  },
  {
   "cell_type": "code",
   "execution_count": 4,
   "metadata": {},
   "outputs": [
    {
     "name": "stdout",
     "output_type": "stream",
     "text": [
      "Input Name: Brandon\n",
      "Hello Brandon\n"
     ]
    }
   ],
   "source": [
    "# Input a string\n",
    "name = str(input(\"Input Name:\"))\n",
    "print(\"Hello\", name)"
   ]
  },
  {
   "cell_type": "code",
   "execution_count": 13,
   "metadata": {},
   "outputs": [
    {
     "name": "stdout",
     "output_type": "stream",
     "text": [
      "Input favorite number: 3\n",
      "Your number is 3\n"
     ]
    }
   ],
   "source": [
    "# Input Integer\n",
    "num = int(input(\"Input favorite number: \"))\n",
    "print(\"Your number is\", num)"
   ]
  },
  {
   "cell_type": "code",
   "execution_count": 14,
   "metadata": {},
   "outputs": [
    {
     "name": "stdout",
     "output_type": "stream",
     "text": [
      "Input a decimal number: 2\n",
      "Your number is 2.0\n"
     ]
    }
   ],
   "source": [
    "# Input Float\n",
    "num = float(input(\"Input a decimal number: \"))\n",
    "print(\"Your number is\", num)"
   ]
  },
  {
   "cell_type": "markdown",
   "metadata": {},
   "source": [
    "--- \n",
    "## Length"
   ]
  },
  {
   "cell_type": "code",
   "execution_count": 5,
   "metadata": {},
   "outputs": [
    {
     "data": {
      "text/plain": [
       "5"
      ]
     },
     "execution_count": 5,
     "metadata": {},
     "output_type": "execute_result"
    }
   ],
   "source": [
    "# List the length a a word\n",
    "len(\"Hello\")"
   ]
  },
  {
   "cell_type": "code",
   "execution_count": 7,
   "metadata": {},
   "outputs": [
    {
     "data": {
      "text/plain": [
       "23"
      ]
     },
     "execution_count": 7,
     "metadata": {},
     "output_type": "execute_result"
    }
   ],
   "source": [
    "# List the lenght of a sentence spaces included\n",
    "len(\"Hello I am here to help\")"
   ]
  },
  {
   "cell_type": "markdown",
   "metadata": {},
   "source": [
    "---\n",
    "## Printing"
   ]
  },
  {
   "cell_type": "code",
   "execution_count": 10,
   "metadata": {},
   "outputs": [
    {
     "name": "stdout",
     "output_type": "stream",
     "text": [
      "Hello\n",
      "15\n",
      "My name is Brandon\n"
     ]
    }
   ],
   "source": [
    "#Printing Text\n",
    "print(\"Hello\")\n",
    "\n",
    "#Printing Numbers\n",
    "print(15)\n",
    "\n",
    "# Printing Text with a Variable on the same line\n",
    "name = \"Brandon\"\n",
    "print(\"My name is\", name)"
   ]
  },
  {
   "cell_type": "markdown",
   "metadata": {},
   "source": [
    "___\n",
    "## Statements"
   ]
  },
  {
   "cell_type": "code",
   "execution_count": 17,
   "metadata": {},
   "outputs": [
    {
     "name": "stdout",
     "output_type": "stream",
     "text": [
      "9\n"
     ]
    }
   ],
   "source": [
    "i = 9\n",
    "# While Loops\n",
    "while i < 1:\n",
    "    print(i)\n",
    "    i +=1\n",
    "\n",
    "\n",
    "# Else if statements\n",
    "elif i < 10:\n",
    "    print(i)\n",
    "    i += 1\n",
    "    \n",
    "# Else statements\n",
    "else:\n",
    "    print(i)"
   ]
  },
  {
   "cell_type": "code",
   "execution_count": 18,
   "metadata": {},
   "outputs": [
    {
     "name": "stdout",
     "output_type": "stream",
     "text": [
      "0\n"
     ]
    }
   ],
   "source": [
    "i = 0\n",
    "#If statements\n",
    "if i < 10:\n",
    "    print(i)\n",
    "    i += 1"
   ]
  },
  {
   "cell_type": "markdown",
   "metadata": {},
   "source": [
    "---\n",
    "## Math Variables\n",
    "You need to import math by using\n",
    "> import math"
   ]
  },
  {
   "cell_type": "code",
   "execution_count": 25,
   "metadata": {},
   "outputs": [
    {
     "name": "stdout",
     "output_type": "stream",
     "text": [
      "3.141592653589793\n"
     ]
    }
   ],
   "source": [
    "import math\n",
    "# Constant PI\n",
    "# math.pi\n",
    "print(math.pi)"
   ]
  },
  {
   "cell_type": "code",
   "execution_count": 26,
   "metadata": {},
   "outputs": [
    {
     "name": "stdout",
     "output_type": "stream",
     "text": [
      "2.718281828459045\n"
     ]
    }
   ],
   "source": [
    "import math\n",
    "# Constant E\n",
    "# math.e\n",
    "print(math.e)"
   ]
  },
  {
   "cell_type": "code",
   "execution_count": 27,
   "metadata": {},
   "outputs": [
    {
     "name": "stdout",
     "output_type": "stream",
     "text": [
      "0.28366218546322625\n"
     ]
    }
   ],
   "source": [
    "import math\n",
    "num = 5\n",
    "# Cos\n",
    "# math.cos()\n",
    "print(math.cos(num))"
   ]
  },
  {
   "cell_type": "code",
   "execution_count": 28,
   "metadata": {},
   "outputs": [
    {
     "name": "stdout",
     "output_type": "stream",
     "text": [
      "0.28366218546322625\n"
     ]
    }
   ],
   "source": [
    "import math\n",
    "num = 5\n",
    "# Sin\n",
    "# math.sin()\n",
    "print(math.cos(num))"
   ]
  },
  {
   "cell_type": "code",
   "execution_count": 29,
   "metadata": {},
   "outputs": [
    {
     "name": "stdout",
     "output_type": "stream",
     "text": [
      "0.28366218546322625\n"
     ]
    }
   ],
   "source": [
    "import math\n",
    "num = 5\n",
    "# Tan\n",
    "# math.tan()\n",
    "print(math.cos(num))"
   ]
  },
  {
   "cell_type": "code",
   "execution_count": null,
   "metadata": {
    "collapsed": true
   },
   "outputs": [],
   "source": []
  }
 ],
 "metadata": {
  "kernelspec": {
   "display_name": "Python 3",
   "language": "python",
   "name": "python3"
  },
  "language_info": {
   "codemirror_mode": {
    "name": "ipython",
    "version": 3
   },
   "file_extension": ".py",
   "mimetype": "text/x-python",
   "name": "python",
   "nbconvert_exporter": "python",
   "pygments_lexer": "ipython3",
   "version": "3.6.4"
  }
 },
 "nbformat": 4,
 "nbformat_minor": 2
}
