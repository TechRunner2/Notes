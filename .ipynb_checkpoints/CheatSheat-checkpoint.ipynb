{
 "cells": [
  {
   "cell_type": "markdown",
   "metadata": {
    "slideshow": {
     "slide_type": "-"
    }
   },
   "source": [
    "# Welcome to my notebook\n",
    "## This is a test notebook that will be filled with code snitbits for my help and the help of others\n",
    "Python isn't that difficult of a language to learn it just requires a bit of reworking the habbits that you formed by other programing languages"
   ]
  },
  {
   "cell_type": "markdown",
   "metadata": {},
   "source": [
    "---\n",
    "## Variables"
   ]
  },
  {
   "cell_type": "code",
   "execution_count": 2,
   "metadata": {
    "collapsed": true,
    "scrolled": true
   },
   "outputs": [],
   "source": [
    "# This is how to assign variables\n",
    "name = \"Brandon\"\n",
    "# Assigning numbers does not require int, double, etc...\n",
    "number = 15\n",
    "# True and False requires the first letter be capitalized\n",
    "binary = True\n",
    "# Lists aka Arrays\n",
    "lst = [5, 4, 2, 6]"
   ]
  },
  {
   "cell_type": "markdown",
   "metadata": {},
   "source": [
    "---\n",
    "## String"
   ]
  },
  {
   "cell_type": "code",
   "execution_count": 1,
   "metadata": {},
   "outputs": [
    {
     "name": "stdout",
     "output_type": "stream",
     "text": [
      "Hello world\n",
      "H\n",
      "llo\n",
      "llo world\n",
      "Hello worldHello world\n"
     ]
    }
   ],
   "source": [
    "str='Hello world'\n",
    "print(str)\n",
    "print(str[0])\n",
    "print(str[2:5])\n",
    "print(str[2:])\n",
    "print(str*2)"
   ]
  },
  {
   "cell_type": "markdown",
   "metadata": {},
   "source": [
    "---\n",
    "## List"
   ]
  },
  {
   "cell_type": "code",
   "execution_count": 11,
   "metadata": {},
   "outputs": [
    {
     "name": "stdout",
     "output_type": "stream",
     "text": [
      "['abcd', 765, 2.45, 'brandon', 70.2]\n",
      "70.2\n",
      "[2.45, 'brandon', 70.2]\n"
     ]
    }
   ],
   "source": [
    "lists = ['abcd', 765, 2.45,'brandon', 70.2]\n",
    "tinylist = [123, 'john']\n",
    "print(lists)\n",
    "print(lists[4])\n",
    "print(lists[2:5])\n"
   ]
  },
  {
   "cell_type": "markdown",
   "metadata": {},
   "source": [
    "---\n",
    "## If statement"
   ]
  },
  {
   "cell_type": "code",
   "execution_count": 3,
   "metadata": {},
   "outputs": [
    {
     "name": "stdout",
     "output_type": "stream",
     "text": [
      "a < b\n"
     ]
    }
   ],
   "source": [
    "a = 3\n",
    "b = 4\n",
    "# If statement\n",
    "if a > b:\n",
    "    print('a > b')\n",
    "# Else if statement\n",
    "elif a == b:\n",
    "    print('a = b')\n",
    "# Else statment\n",
    "else:\n",
    "    print('a < b')"
   ]
  },
  {
   "cell_type": "markdown",
   "metadata": {},
   "source": [
    "---\n",
    "## While sintax"
   ]
  },
  {
   "cell_type": "code",
   "execution_count": 16,
   "metadata": {},
   "outputs": [
    {
     "name": "stdout",
     "output_type": "stream",
     "text": [
      "0\n",
      "1\n",
      "2\n",
      "3\n",
      "4\n",
      "5\n",
      "6\n",
      "7\n",
      "8\n",
      "This is test of while loop\n"
     ]
    }
   ],
   "source": [
    "count = 0\n",
    "while(count < 9):\n",
    "    print(count)\n",
    "    count += 1\n",
    "print('This is test of while loop')"
   ]
  },
  {
   "cell_type": "markdown",
   "metadata": {},
   "source": [
    "---\n",
    "## For loop sintax"
   ]
  },
  {
   "cell_type": "code",
   "execution_count": 21,
   "metadata": {},
   "outputs": [
    {
     "name": "stdout",
     "output_type": "stream",
     "text": [
      "p\n",
      "y\n",
      "t\n",
      "h\n",
      "o\n",
      "n\n",
      "apple\n",
      "banana\n",
      "mango\n",
      "6\n"
     ]
    }
   ],
   "source": [
    "total = 0\n",
    "# String\n",
    "for letter in 'python':\n",
    "    print(letter)\n",
    "    \n",
    "# List\n",
    "fruits = ['apple', 'banana', 'mango']\n",
    "for one in fruits:\n",
    "    print(one)\n",
    "\n",
    "# Integer\n",
    "for i in range(2,6,2):\n",
    "    total = total + i\n",
    "print(total)\n",
    "\n",
    "def count(data,)"
   ]
  },
  {
   "cell_type": "markdown",
   "metadata": {},
   "source": [
    "---\n",
    "## Functions"
   ]
  },
  {
   "cell_type": "code",
   "execution_count": 11,
   "metadata": {},
   "outputs": [
    {
     "name": "stdout",
     "output_type": "stream",
     "text": [
      "Hello\n",
      "10\n"
     ]
    }
   ],
   "source": [
    "# Void type function\n",
    "def printme(str):\n",
    "    print(str)\n",
    "    return # Not Necessary\n",
    "\n",
    "printme('Hello')\n",
    "\n",
    "# Return type\n",
    "def add(a,b):\n",
    "    c = a + b\n",
    "    return c\n",
    "print(add(6,4))"
   ]
  },
  {
   "cell_type": "markdown",
   "metadata": {},
   "source": [
    "---\n",
    "## Call by reference"
   ]
  },
  {
   "cell_type": "code",
   "execution_count": 15,
   "metadata": {},
   "outputs": [
    {
     "name": "stdout",
     "output_type": "stream",
     "text": [
      "[10, 20, 30]\n"
     ]
    }
   ],
   "source": [
    "def put_list(mylist):\n",
    "    print(mylist)\n",
    "    return\n",
    "mylist = [10,20,30]\n",
    "put_list(mylist)"
   ]
  },
  {
   "cell_type": "markdown",
   "metadata": {},
   "source": [
    "---\n",
    "## Files"
   ]
  },
  {
   "cell_type": "code",
   "execution_count": 17,
   "metadata": {},
   "outputs": [
    {
     "name": "stdout",
     "output_type": "stream",
     "text": [
      "Brandon\n",
      "Behar\n",
      "\n"
     ]
    }
   ],
   "source": [
    "f = open('test.txt', 'w')\n",
    "f.write('Brandon' + '\\n')\n",
    "f.write('Behar' + '\\n')\n",
    "f.close()\n",
    "\n",
    "fo = open('test.txt', 'r')\n",
    "str = fo.read(20)\n",
    "print(str)\n",
    "fo.close()"
   ]
  },
  {
   "cell_type": "markdown",
   "metadata": {},
   "source": [
    "---\n",
    "## Classes"
   ]
  },
  {
   "cell_type": "code",
   "execution_count": 5,
   "metadata": {},
   "outputs": [
    {
     "name": "stdout",
     "output_type": "stream",
     "text": [
      "25\n",
      "John Doe\n",
      "age = 25 \t name = John Doe \n",
      "\n"
     ]
    }
   ],
   "source": [
    "# Java/C++/Python are Object oriented Languages\n",
    "# 1. Declare Class\n",
    "# 2. Create Object (Instanctiation)\n",
    "# 3. Use\n",
    "\n",
    "# Class\n",
    "class Person:\n",
    "    age = 0\n",
    "    name = ''\n",
    "    def PrintData(self):\n",
    "        print('age =', self.age, '\\t', 'name =', self.name, '\\n')\n",
    "    \n",
    "# Object\n",
    "John = Person()\n",
    "John.age = 25\n",
    "John.name = 'John Doe'\n",
    "print(John.age)\n",
    "print(John.name)\n",
    "John.PrintData()"
   ]
  },
  {
   "cell_type": "markdown",
   "metadata": {},
   "source": [
    "---\n",
    "## Tuple"
   ]
  },
  {
   "cell_type": "code",
   "execution_count": 9,
   "metadata": {},
   "outputs": [
    {
     "name": "stdout",
     "output_type": "stream",
     "text": [
      "('abcd', 153, 2.53, 'john', 70.4)\n",
      "abcd\n",
      "(153, 2.53)\n",
      "(2.53, 'john', 70.4)\n",
      "(142, 'john', 142, 'john')\n",
      "('abcd', 153, 2.53, 'john', 70.4, 142, 'john')\n"
     ]
    }
   ],
   "source": [
    "tuple = ('abcd', 153, 2.53,'john', 70.4)\n",
    "tinytuple = (142,'john')\n",
    "\n",
    "print(tuple)\n",
    "print(tuple[0])\n",
    "print(tuple[1:3])\n",
    "print(tuple[2:])\n",
    "print(tinytuple*2)\n",
    "print(tuple+tinytuple)"
   ]
  },
  {
   "cell_type": "markdown",
   "metadata": {},
   "source": [
    "---\n",
    "## Dictionary"
   ]
  },
  {
   "cell_type": "code",
   "execution_count": 11,
   "metadata": {},
   "outputs": [
    {
     "name": "stdout",
     "output_type": "stream",
     "text": [
      "Brandon\n",
      "Behar\n",
      "{'name': 'Brandon', 'id': 111, 'dept': 'cs', 222: 333}\n",
      "dict_keys(['name', 'id', 'dept', 222])\n",
      "dict_values(['Brandon', 111, 'cs', 333])\n",
      "Brandon\n",
      "111\n",
      "cs\n",
      "333\n"
     ]
    }
   ],
   "source": [
    "dict = {}\n",
    "dict['one'] = \"Brandon\"\n",
    "dict[2] = \"Behar\"\n",
    "\n",
    "tinydict = {'name':'Brandon','id':111,'dept':'cs',222:333}\n",
    "\n",
    "print(dict['one'])\n",
    "print(dict[2])\n",
    "print(tinydict)\n",
    "print(tinydict.keys())\n",
    "print(tinydict.values())\n",
    "print(tinydict['name'])\n",
    "print(tinydict['id'])\n",
    "print(tinydict['dept'])\n",
    "print(tinydict[222])"
   ]
  },
  {
   "cell_type": "markdown",
   "metadata": {},
   "source": [
    "---\n",
    "## Input"
   ]
  },
  {
   "cell_type": "code",
   "execution_count": 13,
   "metadata": {},
   "outputs": [
    {
     "name": "stdout",
     "output_type": "stream",
     "text": [
      "x\n",
      "Enter the value below:\n",
      "3\n"
     ]
    }
   ],
   "source": [
    "x = input()\n",
    "y = input('Enter the value below:\\n')"
   ]
  },
  {
   "cell_type": "markdown",
   "metadata": {},
   "source": [
    "---\n",
    "## Global Variables"
   ]
  },
  {
   "cell_type": "code",
   "execution_count": 19,
   "metadata": {},
   "outputs": [
    {
     "name": "stdout",
     "output_type": "stream",
     "text": [
      "1\n",
      "2\n",
      "1\n",
      "3\n"
     ]
    }
   ],
   "source": [
    "a = 1\n",
    "def f():\n",
    "    b = 2\n",
    "    global c\n",
    "    c = 3\n",
    "    print(a)\n",
    "    print(b)\n",
    "    return\n",
    "f()\n",
    "print(a)\n",
    "#print(b)  # Doesn't work\n",
    "print(c)\n"
   ]
  },
  {
   "cell_type": "markdown",
   "metadata": {},
   "source": [
    "---\n",
    "## Example Program"
   ]
  },
  {
   "cell_type": "code",
   "execution_count": 7,
   "metadata": {},
   "outputs": [
    {
     "name": "stdout",
     "output_type": "stream",
     "text": [
      "400\n",
      "Unknown grade '400' being ignored\n",
      "30\n",
      "Unknown grade '30' being ignored\n",
      "\n"
     ]
    }
   ],
   "source": [
    "num_courses = 0\n",
    "total_points = []\n",
    "done = False\n",
    "while not done:\n",
    "    grade = input()\n",
    "    if grade == '':\n",
    "        done = True\n",
    "    elif grade not in total_points:\n",
    "        print(\"Unknown grade '{0}' being ignored\".format(grade))\n",
    "    else:\n",
    "        num_courses += 1\n",
    "        total_points += total_points[grade]\n",
    "if num_courses > 0:\n",
    "    print('Your GPA is {0:.3}'.format(total_points / num_courses))"
   ]
  },
  {
   "cell_type": "markdown",
   "metadata": {},
   "source": [
    "---\n",
    "## Bianary"
   ]
  },
  {
   "cell_type": "code",
   "execution_count": 2,
   "metadata": {},
   "outputs": [
    {
     "data": {
      "text/plain": [
       "'0b111'"
      ]
     },
     "execution_count": 2,
     "metadata": {},
     "output_type": "execute_result"
    }
   ],
   "source": [
    "a=60\n",
    "bin(a)\n",
    "\n",
    "b=13\n",
    "bin(b)\n",
    "\n",
    "a&b\n",
    "\n",
    "bin(a&b)\n",
    "0b111100&0b1101\n",
    "\n",
    "bin(0b111)"
   ]
  },
  {
   "cell_type": "markdown",
   "metadata": {},
   "source": [
    "---\n",
    "## Format"
   ]
  },
  {
   "cell_type": "code",
   "execution_count": 22,
   "metadata": {},
   "outputs": [
    {
     "name": "stdout",
     "output_type": "stream",
     "text": [
      "a,b,c\n",
      "c,b,a\n",
      "c,b,a\n",
      "Behar,Brandon,Behar\n",
      "combined: Brandon,814\n"
     ]
    },
    {
     "ename": "KeyError",
     "evalue": "'str'",
     "output_type": "error",
     "traceback": [
      "\u001b[0;31m---------------------------------------------------------------------------\u001b[0m",
      "\u001b[0;31mKeyError\u001b[0m                                  Traceback (most recent call last)",
      "\u001b[0;32m<ipython-input-22-2028e86cce88>\u001b[0m in \u001b[0;36m<module>\u001b[0;34m()\u001b[0m\n\u001b[1;32m      5\u001b[0m \u001b[0mprint\u001b[0m\u001b[0;34m(\u001b[0m\u001b[0;34m'combined: {str},{num}'\u001b[0m\u001b[0;34m.\u001b[0m\u001b[0mformat\u001b[0m\u001b[0;34m(\u001b[0m\u001b[0mstr\u001b[0m\u001b[0;34m=\u001b[0m\u001b[0;34m'Brandon'\u001b[0m\u001b[0;34m,\u001b[0m\u001b[0mnum\u001b[0m\u001b[0;34m=\u001b[0m\u001b[0;36m814\u001b[0m\u001b[0;34m)\u001b[0m\u001b[0;34m)\u001b[0m\u001b[0;34m\u001b[0m\u001b[0m\n\u001b[1;32m      6\u001b[0m \u001b[0mcombined\u001b[0m\u001b[0;34m=\u001b[0m\u001b[0;34m{\u001b[0m\u001b[0;34m'str'\u001b[0m\u001b[0;34m:\u001b[0m\u001b[0;34m'Behar'\u001b[0m\u001b[0;34m,\u001b[0m\u001b[0;34m'num'\u001b[0m\u001b[0;34m:\u001b[0m\u001b[0;36m814\u001b[0m\u001b[0;34m}\u001b[0m\u001b[0;34m\u001b[0m\u001b[0m\n\u001b[0;32m----> 7\u001b[0;31m \u001b[0mprint\u001b[0m\u001b[0;34m(\u001b[0m\u001b[0;34m'combined_string: {str},{num}'\u001b[0m\u001b[0;34m.\u001b[0m\u001b[0mformat\u001b[0m\u001b[0;34m(\u001b[0m\u001b[0mcombined\u001b[0m\u001b[0;34m)\u001b[0m\u001b[0;34m)\u001b[0m\u001b[0;34m\u001b[0m\u001b[0m\n\u001b[0m\u001b[1;32m      8\u001b[0m \u001b[0;34m\u001b[0m\u001b[0m\n",
      "\u001b[0;31mKeyError\u001b[0m: 'str'"
     ]
    }
   ],
   "source": [
    "print('{0},{1},{2}'.format('a','b','c'))\n",
    "print('{2},{1},{0}'.format('a','b','c'))\n",
    "print('{2},{1},{0}'.format(*'abc'))\n",
    "print('{0},{1},{0}'.format('Behar','Brandon','behar'))\n",
    "print('combined: {str},{num}'.format(str='Brandon',num=814))\n",
    "combined={'str':'Behar','num':814}\n",
    "print('combined_string: {str},{num}'.format(combined))\n",
    "\n"
   ]
  },
  {
   "cell_type": "markdown",
   "metadata": {},
   "source": [
    "---\n",
    "## Type Conversion / Built-in classes"
   ]
  },
  {
   "cell_type": "code",
   "execution_count": 7,
   "metadata": {
    "scrolled": true
   },
   "outputs": [
    {
     "data": {
      "text/plain": [
       "'Hello'"
      ]
     },
     "execution_count": 7,
     "metadata": {},
     "output_type": "execute_result"
    }
   ],
   "source": [
    "import string\n",
    "num = 5\n",
    "variable = \"hello\"\n",
    "# Returns an integer object from a number or string\n",
    "int(num)\n",
    "\n",
    "# returns a floating point number from a number or string\n",
    "float(num)\n",
    "\n",
    "# Converts an integer number to a lowercase hexadecimal string prefixed with '0x'\n",
    "hex(num)\n",
    "\n",
    "# Converts an integer number to a binary string\n",
    "bin(num)\n",
    "\n",
    "# Converts an integer number to an octal string\n",
    "oct(num)\n",
    "\n",
    "# Create a new empty string\n",
    "str(num)\n",
    "\n",
    "# Returns a string in all uppercase\n",
    "str.upper(variable)\n",
    "\n",
    "# Returns a string in all lowercase\n",
    "str.lower(variable)\n",
    "\n",
    "# Returns a string with first character capitalized, the rest lower\n",
    "str.capitalize(variable)\n",
    "\n"
   ]
  },
  {
   "cell_type": "markdown",
   "metadata": {},
   "source": [
    "---\n",
    "## list outputs"
   ]
  },
  {
   "cell_type": "code",
   "execution_count": 22,
   "metadata": {},
   "outputs": [
    {
     "name": "stdout",
     "output_type": "stream",
     "text": [
      "Maximum: 6\n",
      "Lenght: 4\n",
      "Smallest: 2\n",
      "The 2 to the power of 16 is: 65536\n",
      "Range Output: range(1, 3)\n"
     ]
    }
   ],
   "source": [
    "# Returns the largest item in the list or the largest of the two or more arguments\n",
    "# max(variable)\n",
    "print(\"Maximum:\", max(lst))\n",
    "\n",
    "# Returns the length (the number of items) of an object\n",
    "# len(variable)\n",
    "print(\"Lenght:\", len(lst))\n",
    "\n",
    "# List the smallest item in the list or the smallest of the two or more arguments\n",
    "# min(variable)\n",
    "print(\"Smallest:\", min(lst))\n",
    "\n",
    "# Return first argument to the power second argument\n",
    "# pow(variable, variable)\n",
    "print(\"The 2 to the power of 16 is:\", pow(2,16))\n",
    "\n",
    "# Returns a list of integers starting from start and ending at stop (exclusive), \n",
    "# having a difference of step between any two adjacent elements\n",
    "# range(start variable, stop variable, step variable)\n",
    "print(\"Range Output:\", range(1,3))"
   ]
  },
  {
   "cell_type": "markdown",
   "metadata": {},
   "source": [
    "---\n",
    "## List (Array) Methods"
   ]
  },
  {
   "cell_type": "code",
   "execution_count": null,
   "metadata": {
    "collapsed": true
   },
   "outputs": [],
   "source": [
    "# Creates new empty list\n",
    "# list()\n",
    "\n",
    "# Adds an item to the end of the list\n",
    "# append()\n",
    "\n",
    "# Extends the list by appending all the items in the given list\n",
    "# extend()\n",
    "\n",
    "# Inserts an item at a given position\n",
    "# insert()\n",
    "\n",
    "# Removes the first item from the list with aforementioned parameter value\n",
    "# remove()\n",
    "\n",
    "# Removes the item at the given position in the list, and return it\n",
    "# pop()\n",
    "\n",
    "# Returns the index in the list\n",
    "# index()\n",
    "\n",
    "# Returns the number of times that appears in the list\n",
    "# count()\n",
    "\n",
    "# Sorts the items of the list in place\n",
    "# sort()\n",
    "\n",
    "# Sorts the items of the list in place, in descending order\n",
    "# sort(reverse=True)\n",
    "\n",
    "# Reverses the elements of the list, in place\n",
    "# reverse()\n",
    "\n",
    "# Returns the total sum of all items of the list\n",
    "# sum()\n",
    "\n",
    "# Concatenates all the items of the list\n",
    "# join()\n"
   ]
  },
  {
   "cell_type": "markdown",
   "metadata": {},
   "source": [
    "---\n",
    "## Dictionary Methods"
   ]
  },
  {
   "cell_type": "code",
   "execution_count": null,
   "metadata": {
    "collapsed": true
   },
   "outputs": [],
   "source": [
    "# Creates a new empty dictionary\n",
    "# dict()\n",
    "\n",
    "# Returns list of dictionary keys\n",
    "# keys()\n",
    "\n",
    "# Returns list of dictionary values\n",
    "# values()\n",
    "\n",
    "# Removes all elements of dictionary\n",
    "# clear()\n",
    "\n",
    "# Returns a shallow copy of dictionary\n",
    "# copy()\n"
   ]
  },
  {
   "cell_type": "markdown",
   "metadata": {},
   "source": [
    "---\n",
    "## Input"
   ]
  },
  {
   "cell_type": "code",
   "execution_count": 21,
   "metadata": {
    "scrolled": true
   },
   "outputs": [
    {
     "name": "stdout",
     "output_type": "stream",
     "text": [
      "hello\n"
     ]
    }
   ],
   "source": [
    "# Basic input\n",
    "test = input()"
   ]
  },
  {
   "cell_type": "code",
   "execution_count": 4,
   "metadata": {
    "scrolled": true
   },
   "outputs": [
    {
     "name": "stdout",
     "output_type": "stream",
     "text": [
      "Good? \n"
     ]
    }
   ],
   "source": [
    "# Basic input with question before\n",
    "test = input(\"Good? \")"
   ]
  },
  {
   "cell_type": "code",
   "execution_count": 5,
   "metadata": {
    "scrolled": true
   },
   "outputs": [
    {
     "name": "stdout",
     "output_type": "stream",
     "text": [
      "Input Name:\n",
      "Hello \n"
     ]
    }
   ],
   "source": [
    "# Input a string\n",
    "name = str(input(\"Input Name:\"))\n",
    "print(\"Hello\", name)"
   ]
  },
  {
   "cell_type": "code",
   "execution_count": 1,
   "metadata": {
    "scrolled": true
   },
   "outputs": [
    {
     "name": "stdout",
     "output_type": "stream",
     "text": [
      "Your number is 4\n"
     ]
    }
   ],
   "source": [
    "# Input Integer\n",
    "num = int(input(\"Input favorite number: \"))\n",
    "print(\"Your number is\", num)"
   ]
  },
  {
   "cell_type": "code",
   "execution_count": 2,
   "metadata": {
    "scrolled": true
   },
   "outputs": [
    {
     "name": "stdout",
     "output_type": "stream",
     "text": [
      "Your number is 3.5\n"
     ]
    }
   ],
   "source": [
    "# Input Float\n",
    "num = float(input(\"Input a decimal number: \"))\n",
    "print(\"Your number is\", num)"
   ]
  },
  {
   "cell_type": "markdown",
   "metadata": {},
   "source": [
    "--- \n",
    "## Length"
   ]
  },
  {
   "cell_type": "code",
   "execution_count": 3,
   "metadata": {
    "scrolled": false
   },
   "outputs": [
    {
     "data": {
      "text/plain": [
       "5"
      ]
     },
     "execution_count": 3,
     "metadata": {},
     "output_type": "execute_result"
    }
   ],
   "source": [
    "# List the length a a word\n",
    "len(\"Hello\")"
   ]
  },
  {
   "cell_type": "code",
   "execution_count": 4,
   "metadata": {
    "scrolled": true
   },
   "outputs": [
    {
     "data": {
      "text/plain": [
       "23"
      ]
     },
     "execution_count": 4,
     "metadata": {},
     "output_type": "execute_result"
    }
   ],
   "source": [
    "# List the lenght of a sentence spaces included\n",
    "len(\"Hello I am here to help\")"
   ]
  },
  {
   "cell_type": "markdown",
   "metadata": {},
   "source": [
    "---\n",
    "## Printing"
   ]
  },
  {
   "cell_type": "code",
   "execution_count": 5,
   "metadata": {
    "scrolled": true
   },
   "outputs": [
    {
     "name": "stdout",
     "output_type": "stream",
     "text": [
      "Hello\n",
      "15\n",
      "My name is Brandon\n"
     ]
    }
   ],
   "source": [
    "#Printing Text\n",
    "print(\"Hello\")\n",
    "\n",
    "#Printing Numbers\n",
    "print(15)\n",
    "\n",
    "# Printing Text with a Variable on the same line\n",
    "name = \"Brandon\"\n",
    "print(\"My name is\", name)"
   ]
  },
  {
   "cell_type": "markdown",
   "metadata": {},
   "source": [
    "___\n",
    "## Statements"
   ]
  },
  {
   "cell_type": "markdown",
   "metadata": {},
   "source": [
    "While loops consist of the while, an argument, and a :\n",
    "```\n",
    "while True:\n",
    "while x > 10:\n",
    "while y != 5:\n",
    "```"
   ]
  },
  {
   "cell_type": "code",
   "execution_count": 4,
   "metadata": {
    "scrolled": true
   },
   "outputs": [
    {
     "ename": "SyntaxError",
     "evalue": "invalid syntax (<ipython-input-4-fece286275a7>, line 9)",
     "output_type": "error",
     "traceback": [
      "\u001b[0;36m  File \u001b[0;32m\"<ipython-input-4-fece286275a7>\"\u001b[0;36m, line \u001b[0;32m9\u001b[0m\n\u001b[0;31m    elif i < 10:\u001b[0m\n\u001b[0m       ^\u001b[0m\n\u001b[0;31mSyntaxError\u001b[0m\u001b[0;31m:\u001b[0m invalid syntax\n"
     ]
    }
   ],
   "source": [
    "i = 9\n",
    "# While Loops\n",
    "while i < 1:\n",
    "    print(i)\n",
    "    i +=1\n",
    "\n",
    "\n",
    "# Else if statements\n",
    "elif i < 10:\n",
    "    print(i)\n",
    "    i += 1\n",
    "    \n",
    "# Else statements\n",
    "else:\n",
    "    print(i)"
   ]
  },
  {
   "cell_type": "code",
   "execution_count": 3,
   "metadata": {},
   "outputs": [
    {
     "name": "stdout",
     "output_type": "stream",
     "text": [
      "5\n"
     ]
    }
   ],
   "source": [
    "#If statements\n",
    "# print(i) is inside the if statement but number -= 1 is not\n",
    "var = 5\n",
    "if var > 0:\n",
    "    print(var)\n",
    "var -= 1"
   ]
  },
  {
   "cell_type": "markdown",
   "metadata": {},
   "source": [
    "---\n",
    "## Math Variables"
   ]
  },
  {
   "cell_type": "code",
   "execution_count": 11,
   "metadata": {
    "collapsed": true
   },
   "outputs": [],
   "source": [
    "# First step is to import math\n",
    "import math"
   ]
  },
  {
   "cell_type": "code",
   "execution_count": 12,
   "metadata": {
    "scrolled": true
   },
   "outputs": [
    {
     "name": "stdout",
     "output_type": "stream",
     "text": [
      "3.141592653589793\n"
     ]
    }
   ],
   "source": [
    "# Constant PI\n",
    "# math.pi\n",
    "print(math.pi)"
   ]
  },
  {
   "cell_type": "code",
   "execution_count": 13,
   "metadata": {
    "scrolled": true
   },
   "outputs": [
    {
     "name": "stdout",
     "output_type": "stream",
     "text": [
      "2.718281828459045\n"
     ]
    }
   ],
   "source": [
    "# Constant E\n",
    "# math.e\n",
    "print(math.e)"
   ]
  },
  {
   "cell_type": "code",
   "execution_count": 14,
   "metadata": {
    "scrolled": true
   },
   "outputs": [
    {
     "name": "stdout",
     "output_type": "stream",
     "text": [
      "0.28366218546322625\n"
     ]
    }
   ],
   "source": [
    "num = 5\n",
    "# Cos\n",
    "# math.cos()\n",
    "print(math.cos(num))"
   ]
  },
  {
   "cell_type": "code",
   "execution_count": 15,
   "metadata": {
    "scrolled": true
   },
   "outputs": [
    {
     "name": "stdout",
     "output_type": "stream",
     "text": [
      "-0.9589242746631385\n"
     ]
    }
   ],
   "source": [
    "num = 5\n",
    "# Sin\n",
    "# math.sin()\n",
    "print(math.sin(num))"
   ]
  },
  {
   "cell_type": "code",
   "execution_count": 16,
   "metadata": {
    "scrolled": true
   },
   "outputs": [
    {
     "name": "stdout",
     "output_type": "stream",
     "text": [
      "-3.380515006246586\n"
     ]
    }
   ],
   "source": [
    "num = 5\n",
    "# Tan\n",
    "# math.tan()\n",
    "print(math.tan(num))"
   ]
  },
  {
   "cell_type": "markdown",
   "metadata": {},
   "source": [
    "---\n",
    "## matplotlib"
   ]
  },
  {
   "cell_type": "markdown",
   "metadata": {},
   "source": [
    "To install matplotlib enter this into your command line/terminal\n",
    "```\n",
    "pip install matplotlib\n",
    "```"
   ]
  },
  {
   "cell_type": "code",
   "execution_count": 17,
   "metadata": {
    "collapsed": true
   },
   "outputs": [],
   "source": [
    "# Import pyplot from the matplotlib library and name it plt\n",
    "# plt is commonly used for pyplot\n",
    "import matplotlib.pyplot as plt"
   ]
  },
  {
   "cell_type": "code",
   "execution_count": 18,
   "metadata": {},
   "outputs": [
    {
     "data": {
      "text/plain": [
       "[<matplotlib.lines.Line2D at 0x7f34369075f8>]"
      ]
     },
     "execution_count": 18,
     "metadata": {},
     "output_type": "execute_result"
    }
   ],
   "source": [
    "# Creating a pyplot\n",
    "plt.plot([1,2,3],[5,7,4])"
   ]
  },
  {
   "cell_type": "code",
   "execution_count": 19,
   "metadata": {},
   "outputs": [
    {
     "data": {
      "text/plain": [
       "Text(0.5,1,'Interesting Graph')"
      ]
     },
     "execution_count": 19,
     "metadata": {},
     "output_type": "execute_result"
    }
   ],
   "source": [
    "# X axis Label\n",
    "plt.xlabel('Plot Number')\n",
    "\n",
    "# Y axis label\n",
    "plt.ylabel('Important var')\n",
    "\n",
    "# Title\n",
    "plt.title('Interesting Graph')"
   ]
  },
  {
   "cell_type": "code",
   "execution_count": 20,
   "metadata": {
    "scrolled": false
   },
   "outputs": [
    {
     "data": {
      "image/png": "[encoded data removed]",
      "text/plain": [
       "<matplotlib.figure.Figure at 0x7f343687e4a8>"
      ]
     },
     "metadata": {},
     "output_type": "display_data"
    }
   ],
   "source": [
    "# Showing a pyplot\n",
    "plt.show()"
   ]
  },
  {
   "cell_type": "code",
   "execution_count": 7,
   "metadata": {},
   "outputs": [
    {
     "data": {
      "image/png": "[encoded data removed]",
      "text/plain": [
       "<matplotlib.figure.Figure at 0x7f167168d7f0>"
      ]
     },
     "metadata": {},
     "output_type": "display_data"
    }
   ],
   "source": [
    "# Legends require a label\n",
    "plt.plot([5,3,4],[7,3,4], label=\"line\")\n",
    "\n",
    "# Legends\n",
    "plt.legend()\n",
    "\n",
    "plt.show()"
   ]
  },
  {
   "cell_type": "code",
   "execution_count": 7,
   "metadata": {
    "scrolled": true
   },
   "outputs": [
    {
     "data": {
      "image/png": "[encoded data removed]",
      "text/plain": [
       "<matplotlib.figure.Figure at 0x7f3441e05198>"
      ]
     },
     "metadata": {},
     "output_type": "display_data"
    }
   ],
   "source": [
    "import matplotlib.pyplot as plt\n",
    "import math\n",
    "x = []\n",
    "y = []\n",
    "for i in range(40):\n",
    "    y.append(math.sin(i))\n",
    "    x.append(i)\n",
    "plt.plot(x,y)\n",
    "plt.show()"
   ]
  },
  {
   "cell_type": "code",
   "execution_count": 20,
   "metadata": {},
   "outputs": [
    {
     "data": {
      "image/png": "[encoded data removed]",
      "text/plain": [
       "<matplotlib.figure.Figure at 0x7f637aabd470>"
      ]
     },
     "metadata": {},
     "output_type": "display_data"
    }
   ],
   "source": [
    "import matplotlib.pyplot as plt\n",
    "import math\n",
    "x = []\n",
    "y = []\n",
    "counter = 0.0\n",
    "while counter < 30.0:\n",
    "    y.append(math.sin(counter))\n",
    "    x.append(counter)\n",
    "    counter += .1\n",
    "plt.plot(x,y)\n",
    "plt.show()"
   ]
  },
  {
   "cell_type": "markdown",
   "metadata": {
    "collapsed": true
   },
   "source": [
    "---\n",
    "# Object Oriented Programing\n",
    "1. Create (declare) class => object\n",
    "2. Create object (instance) => instantiation\n",
    "3. Use object with instance variable and method\n"
   ]
  },
  {
   "cell_type": "code",
   "execution_count": 1,
   "metadata": {},
   "outputs": [
    {
     "name": "stdout",
     "output_type": "stream",
     "text": [
      "Age of lion_A:\t 7\n",
      "Lion_A is \n",
      "\n",
      "eating...\n",
      "\n",
      "Age of Lion_B:\t 7\n",
      "Lion_B is\n",
      "\n",
      "eating...\n",
      "\n"
     ]
    }
   ],
   "source": [
    "class Lion:\n",
    "    Age = 7\n",
    "    Gender = 'Male'\n",
    "    \n",
    "    def sleeping(self):\n",
    "        print('sleeping...\\n')\n",
    "    def eating(self):\n",
    "        print('eating...\\n')\n",
    "    def fighting(self):\n",
    "        print('fighting...\\n')\n",
    "    \n",
    "Lion_A = Lion()\n",
    "Lion_B = Lion()\n",
    "\n",
    "print('Age of lion_A:\\t',Lion_A.Age)\n",
    "print('Lion_A is \\n')\n",
    "Lion_A.eating()\n",
    "\n",
    "print('Age of Lion_B:\\t',Lion_B.Age)\n",
    "print('Lion_B is\\n')\n",
    "Lion_B.eating()"
   ]
  },
  {
   "cell_type": "code",
   "execution_count": 7,
   "metadata": {
    "scrolled": true
   },
   "outputs": [
    {
     "name": "stdout",
     "output_type": "stream",
     "text": [
      "Eng: \t 100\n",
      "Hist: \t 95\n",
      "Math: \t 60\n"
     ]
    }
   ],
   "source": [
    "class GPA:\n",
    "    def __init__(self):\n",
    "        self.Eng = 100\n",
    "        self.Hist = 95\n",
    "        self.__Math = 60\n",
    "    \n",
    "    def get_score_Math(self):\n",
    "        return self.__Math\n",
    "    def get_score_Eng(self):\n",
    "        return self.Eng\n",
    "    def get_score_Hist(self):\n",
    "        return self.Hist\n",
    "    \n",
    "Student1 = GPA()\n",
    "print('Eng: \\t', Student1.get_score_Eng())\n",
    "print('Hist: \\t', Student1.get_score_Hist())\n",
    "#print('Eng:\\t', student1.__Math)\n",
    "print('Math: \\t', Student1.get_score_Math())\n"
   ]
  },
  {
   "cell_type": "markdown",
   "metadata": {},
   "source": [
    "### Constructor"
   ]
  },
  {
   "cell_type": "code",
   "execution_count": 8,
   "metadata": {},
   "outputs": [
    {
     "ename": "SyntaxError",
     "evalue": "unexpected EOF while parsing (<ipython-input-8-1761e7df72ee>, line 1)",
     "output_type": "error",
     "traceback": [
      "\u001b[0;36m  File \u001b[0;32m\"<ipython-input-8-1761e7df72ee>\"\u001b[0;36m, line \u001b[0;32m1\u001b[0m\n\u001b[0;31m    def __init__(self):\u001b[0m\n\u001b[0m                       ^\u001b[0m\n\u001b[0;31mSyntaxError\u001b[0m\u001b[0;31m:\u001b[0m unexpected EOF while parsing\n"
     ]
    }
   ],
   "source": [
    "def __init__(self, other_variables):\n",
    "    "
   ]
  },
  {
   "cell_type": "markdown",
   "metadata": {
    "collapsed": true
   },
   "source": [
    "---\n",
    "## Index\n",
    "The index number is the index of the item in the list data[index#]"
   ]
  },
  {
   "cell_type": "code",
   "execution_count": 3,
   "metadata": {
    "collapsed": true,
    "scrolled": false
   },
   "outputs": [],
   "source": [
    "data = ['apple','bananna','mango']"
   ]
  },
  {
   "cell_type": "code",
   "execution_count": 4,
   "metadata": {},
   "outputs": [
    {
     "name": "stdout",
     "output_type": "stream",
     "text": [
      "0\n",
      "1\n",
      "2\n"
     ]
    }
   ],
   "source": [
    "for j in range(len(data)):\n",
    "    print(j)"
   ]
  },
  {
   "cell_type": "code",
   "execution_count": 5,
   "metadata": {},
   "outputs": [
    {
     "name": "stdout",
     "output_type": "stream",
     "text": [
      "0\n",
      "apple\n",
      "1\n",
      "bananna\n",
      "2\n",
      "mango\n"
     ]
    }
   ],
   "source": [
    "for j in range(3):\n",
    "    print(j)\n",
    "    print(data[j])"
   ]
  },
  {
   "cell_type": "code",
   "execution_count": 6,
   "metadata": {},
   "outputs": [
    {
     "name": "stdout",
     "output_type": "stream",
     "text": [
      "1\n",
      "2\n",
      "2\n",
      "2\n",
      "3\n",
      "4\n",
      "val = 1\n"
     ]
    }
   ],
   "source": [
    "data = [1,2,3]\n",
    "target = [2,2,4]\n",
    "\n",
    "def count(data,target):\n",
    "    n=0\n",
    "    for j in range(len(data)):\n",
    "        print(data[j])\n",
    "        print(target[j])\n",
    "        if data[j] == target[j]:\n",
    "            n+=1\n",
    "    return n\n",
    "\n",
    "val = count(data,target)\n",
    "print('val =',val)"
   ]
  },
  {
   "cell_type": "markdown",
   "metadata": {
    "collapsed": true,
    "scrolled": true
   },
   "source": [
    "---\n",
    "## Encapsulation"
   ]
  },
  {
   "cell_type": "markdown",
   "metadata": {},
   "source": [
    "### Open Scores"
   ]
  },
  {
   "cell_type": "code",
   "execution_count": null,
   "metadata": {
    "collapsed": true
   },
   "outputs": [],
   "source": [
    "class GPA:\n",
    "    Eng = 100\n",
    "    Hist = 95\n",
    "    Math = 60\n",
    "    \n",
    "    def Print_Score(self, score):\n",
    "        print(score)\n",
    "        \n",
    "Student1 = GPA()\n",
    "\n",
    "print('Eng:\\t',Student1.Eng)\n",
    "print('Hist:\\t',Student1.Hist)\n",
    "print('Math:\\t',Student1.Math)\n",
    "Student.Print_Score(100)"
   ]
  },
  {
   "cell_type": "markdown",
   "metadata": {},
   "source": [
    "###  Hiding Math Score"
   ]
  },
  {
   "cell_type": "code",
   "execution_count": 4,
   "metadata": {},
   "outputs": [
    {
     "name": "stdout",
     "output_type": "stream",
     "text": [
      "Eng:\t 100\n",
      "Hist:\t 95\n",
      "Math:\t 60\n"
     ]
    }
   ],
   "source": [
    "class GPA:\n",
    "    def __init__(self):\n",
    "        self.Eng = 100\n",
    "        self.Hist = 95\n",
    "        self.__Math = 60\n",
    "    def get_score_Math(self):\n",
    "        return self.__Math\n",
    "    def get_score_Eng(self):\n",
    "        return self.Eng\n",
    "    def get_score_Hist(self):\n",
    "        return self.Hist\n",
    "    \n",
    "Student1 = GPA()\n",
    "\n",
    "print('Eng:\\t',Student1.get_score_Eng())\n",
    "print('Hist:\\t',Student1.get_score_Hist())\n",
    "#print('Eng:\\t',Student1.__Math\n",
    "print('Math:\\t',Student1.get_score_Math())"
   ]
  },
  {
   "cell_type": "code",
   "execution_count": null,
   "metadata": {},
   "outputs": [],
   "source": []
  }
 ],
 "metadata": {
  "kernelspec": {
   "display_name": "Python 3",
   "language": "python",
   "name": "python3"
  },
  "language_info": {
   "codemirror_mode": {
    "name": "ipython",
    "version": 3
   },
   "file_extension": ".py",
   "mimetype": "text/x-python",
   "name": "python",
   "nbconvert_exporter": "python",
   "pygments_lexer": "ipython3",
   "version": "3.6.3"
  }
 },
 "nbformat": 4,
 "nbformat_minor": 2
}
